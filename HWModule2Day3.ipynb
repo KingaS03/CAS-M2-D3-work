{
 "cells": [
  {
   "cell_type": "markdown",
   "metadata": {
    "slideshow": {
     "slide_type": "slide"
    }
   },
   "source": [
    "# Unpaired t-test with Welch's correction"
   ]
  },
  {
   "cell_type": "markdown",
   "metadata": {
    "slideshow": {
     "slide_type": "-"
    }
   },
   "source": [
    "Christophe, Kinga, Michael"
   ]
  },
  {
   "cell_type": "markdown",
   "metadata": {
    "slideshow": {
     "slide_type": "slide"
    }
   },
   "source": [
    "# General setting\n",
    "We measure the same attribute for two different populations.\n",
    "\n",
    "# Question\n",
    "Are the means of this attribute in the two population equal?\n",
    "\n"
   ]
  },
  {
   "cell_type": "markdown",
   "metadata": {
    "slideshow": {
     "slide_type": "slide"
    }
   },
   "source": [
    "# Identification of the test on our map\n",
    "\n",
    "<img src=\"Test.png\"\n",
    "     alt=\"\"\n",
    "     style=\"float: left; margin-right: 10px;\" />"
   ]
  },
  {
   "cell_type": "markdown",
   "metadata": {},
   "source": [
    "# Conditions \n",
    "\n",
    "<img src=\"Conditions.png\"\n",
    "     alt=\"\"\n",
    "     style=\"float: left; margin-right: 10px;\" />"
   ]
  },
  {
   "cell_type": "markdown",
   "metadata": {},
   "source": [
    "# Import Library and Reading the data"
   ]
  },
  {
   "cell_type": "code",
   "execution_count": 21,
   "metadata": {},
   "outputs": [],
   "source": [
    "import numpy as np\n",
    "import matplotlib.pyplot as plt\n",
    "import pandas as pd\n",
    "from scipy import stats"
   ]
  },
  {
   "cell_type": "code",
   "execution_count": 22,
   "metadata": {},
   "outputs": [],
   "source": [
    "df = pd.read_csv('dataN.csv',names=['class','patient','cr_17.OH.pregnanolone_24h'])\n"
   ]
  },
  {
   "cell_type": "code",
   "execution_count": 45,
   "metadata": {},
   "outputs": [
    {
     "data": {
      "text/html": [
       "<div>\n",
       "<style scoped>\n",
       "    .dataframe tbody tr th:only-of-type {\n",
       "        vertical-align: middle;\n",
       "    }\n",
       "\n",
       "    .dataframe tbody tr th {\n",
       "        vertical-align: top;\n",
       "    }\n",
       "\n",
       "    .dataframe thead th {\n",
       "        text-align: right;\n",
       "    }\n",
       "</style>\n",
       "<table border=\"1\" class=\"dataframe\">\n",
       "  <thead>\n",
       "    <tr style=\"text-align: right;\">\n",
       "      <th></th>\n",
       "      <th>class</th>\n",
       "      <th>patient</th>\n",
       "      <th>cr_17.OH.pregnanolone_24h</th>\n",
       "    </tr>\n",
       "  </thead>\n",
       "  <tbody>\n",
       "    <tr>\n",
       "      <th>0</th>\n",
       "      <td>disease</td>\n",
       "      <td>PCOS001</td>\n",
       "      <td>146.691151</td>\n",
       "    </tr>\n",
       "    <tr>\n",
       "      <th>1</th>\n",
       "      <td>disease</td>\n",
       "      <td>PCOS035</td>\n",
       "      <td>117.280335</td>\n",
       "    </tr>\n",
       "    <tr>\n",
       "      <th>2</th>\n",
       "      <td>disease</td>\n",
       "      <td>PCOS036</td>\n",
       "      <td>64.837096</td>\n",
       "    </tr>\n",
       "    <tr>\n",
       "      <th>3</th>\n",
       "      <td>disease</td>\n",
       "      <td>PCOS002</td>\n",
       "      <td>161.947353</td>\n",
       "    </tr>\n",
       "    <tr>\n",
       "      <th>4</th>\n",
       "      <td>disease</td>\n",
       "      <td>PCOS003</td>\n",
       "      <td>162.043287</td>\n",
       "    </tr>\n",
       "  </tbody>\n",
       "</table>\n",
       "</div>"
      ],
      "text/plain": [
       "     class  patient  cr_17.OH.pregnanolone_24h\n",
       "0  disease  PCOS001                 146.691151\n",
       "1  disease  PCOS035                 117.280335\n",
       "2  disease  PCOS036                  64.837096\n",
       "3  disease  PCOS002                 161.947353\n",
       "4  disease  PCOS003                 162.043287"
      ]
     },
     "execution_count": 45,
     "metadata": {},
     "output_type": "execute_result"
    }
   ],
   "source": [
    "df.head()"
   ]
  },
  {
   "cell_type": "code",
   "execution_count": 46,
   "metadata": {},
   "outputs": [
    {
     "data": {
      "text/html": [
       "<div>\n",
       "<style scoped>\n",
       "    .dataframe tbody tr th:only-of-type {\n",
       "        vertical-align: middle;\n",
       "    }\n",
       "\n",
       "    .dataframe tbody tr th {\n",
       "        vertical-align: top;\n",
       "    }\n",
       "\n",
       "    .dataframe thead th {\n",
       "        text-align: right;\n",
       "    }\n",
       "</style>\n",
       "<table border=\"1\" class=\"dataframe\">\n",
       "  <thead>\n",
       "    <tr style=\"text-align: right;\">\n",
       "      <th></th>\n",
       "      <th>class</th>\n",
       "      <th>patient</th>\n",
       "      <th>cr_17.OH.pregnanolone_24h</th>\n",
       "    </tr>\n",
       "  </thead>\n",
       "  <tbody>\n",
       "    <tr>\n",
       "      <th>100</th>\n",
       "      <td>nodisease</td>\n",
       "      <td>340624</td>\n",
       "      <td>45.705613</td>\n",
       "    </tr>\n",
       "    <tr>\n",
       "      <th>101</th>\n",
       "      <td>nodisease</td>\n",
       "      <td>340643</td>\n",
       "      <td>384.472204</td>\n",
       "    </tr>\n",
       "    <tr>\n",
       "      <th>102</th>\n",
       "      <td>nodisease</td>\n",
       "      <td>340683</td>\n",
       "      <td>177.791561</td>\n",
       "    </tr>\n",
       "    <tr>\n",
       "      <th>103</th>\n",
       "      <td>nodisease</td>\n",
       "      <td>340684</td>\n",
       "      <td>80.171626</td>\n",
       "    </tr>\n",
       "    <tr>\n",
       "      <th>104</th>\n",
       "      <td>nodisease</td>\n",
       "      <td>340743</td>\n",
       "      <td>77.065237</td>\n",
       "    </tr>\n",
       "  </tbody>\n",
       "</table>\n",
       "</div>"
      ],
      "text/plain": [
       "         class patient  cr_17.OH.pregnanolone_24h\n",
       "100  nodisease  340624                  45.705613\n",
       "101  nodisease  340643                 384.472204\n",
       "102  nodisease  340683                 177.791561\n",
       "103  nodisease  340684                  80.171626\n",
       "104  nodisease  340743                  77.065237"
      ]
     },
     "execution_count": 46,
     "metadata": {},
     "output_type": "execute_result"
    }
   ],
   "source": [
    "df.tail()"
   ]
  },
  {
   "cell_type": "code",
   "execution_count": 49,
   "metadata": {},
   "outputs": [
    {
     "data": {
      "text/plain": [
       "count     41.000000\n",
       "mean     122.605649\n",
       "std      127.646886\n",
       "min        3.269393\n",
       "25%       62.847783\n",
       "50%      108.965596\n",
       "75%      144.687036\n",
       "max      845.609448\n",
       "Name: cr_17.OH.pregnanolone_24h, dtype: float64"
      ]
     },
     "execution_count": 49,
     "metadata": {},
     "output_type": "execute_result"
    }
   ],
   "source": [
    "df_nodisease = df[df['class'] == 'nodisease']\n",
    "dfnd_pregna = df_disease['cr_17.OH.pregnanolone_24h']\n",
    "dfnd_pregna.head()\n",
    "dfnd_pregna.describe()"
   ]
  },
  {
   "cell_type": "code",
   "execution_count": 50,
   "metadata": {},
   "outputs": [
    {
     "data": {
      "text/plain": [
       "0    146.691151\n",
       "1    117.280335\n",
       "2     64.837096\n",
       "3    161.947353\n",
       "4    162.043287\n",
       "Name: cr_17.OH.pregnanolone_24h, dtype: float64"
      ]
     },
     "execution_count": 50,
     "metadata": {},
     "output_type": "execute_result"
    }
   ],
   "source": [
    "dfnd_pregna.head()"
   ]
  },
  {
   "cell_type": "code",
   "execution_count": 47,
   "metadata": {},
   "outputs": [
    {
     "data": {
      "text/plain": [
       "count     41.000000\n",
       "mean     122.605649\n",
       "std      127.646886\n",
       "min        3.269393\n",
       "25%       62.847783\n",
       "50%      108.965596\n",
       "75%      144.687036\n",
       "max      845.609448\n",
       "Name: cr_17.OH.pregnanolone_24h, dtype: float64"
      ]
     },
     "execution_count": 47,
     "metadata": {},
     "output_type": "execute_result"
    }
   ],
   "source": [
    "df_disease = df[df['class'] == 'disease']\n",
    "dfd_pregna = df_disease['cr_17.OH.pregnanolone_24h']\n",
    "dfd_pregna.head()\n",
    "dfd_pregna.describe()\n"
   ]
  },
  {
   "cell_type": "code",
   "execution_count": 31,
   "metadata": {},
   "outputs": [
    {
     "name": "stdout",
     "output_type": "stream",
     "text": [
      "p-value = 0.0000\n"
     ]
    }
   ],
   "source": [
    "k2, p = stats.normaltest(dfd_pregna)\n",
    "print(\"p-value = %1.4f\" % p)"
   ]
  },
  {
   "cell_type": "code",
   "execution_count": 32,
   "metadata": {},
   "outputs": [
    {
     "name": "stdout",
     "output_type": "stream",
     "text": [
      "p-value = 0.0000\n"
     ]
    }
   ],
   "source": [
    "k2, p = stats.normaltest(dfnd_pregna)\n",
    "print(\"p-value = %1.4f\" % p)"
   ]
  },
  {
   "cell_type": "code",
   "execution_count": 33,
   "metadata": {},
   "outputs": [
    {
     "name": "stdout",
     "output_type": "stream",
     "text": [
      "Test statistic =  0.5282034873962402  p-value = 2.7100799382395735e-10\n"
     ]
    }
   ],
   "source": [
    "s,p = stats.shapiro(dfd_pregna)\n",
    "print('Test statistic = ',s,' p-value =',p)"
   ]
  },
  {
   "cell_type": "code",
   "execution_count": 35,
   "metadata": {},
   "outputs": [
    {
     "name": "stdout",
     "output_type": "stream",
     "text": [
      "Test statistic =  0.5282034873962402  p-value = 2.7100799382395735e-10\n"
     ]
    }
   ],
   "source": [
    "s,p = stats.shapiro(dfnd_pregna)\n",
    "print('Test statistic = ',s,' p-value =',p)"
   ]
  },
  {
   "cell_type": "markdown",
   "metadata": {},
   "source": [
    "both samples doesn't look normal"
   ]
  },
  {
   "cell_type": "code",
   "execution_count": 38,
   "metadata": {},
   "outputs": [
    {
     "data": {
      "text/plain": [
       "Ttest_indResult(statistic=0.0, pvalue=1.0)"
      ]
     },
     "execution_count": 38,
     "metadata": {},
     "output_type": "execute_result"
    }
   ],
   "source": [
    "stats.ttest_ind(dfnd_pregna,dfd_pregna, equal_var = False) # False means we don't assume equal variances (Welsch's t-test)"
   ]
  },
  {
   "cell_type": "code",
   "execution_count": 42,
   "metadata": {},
   "outputs": [
    {
     "name": "stdout",
     "output_type": "stream",
     "text": [
      "122.61 122.61\n"
     ]
    }
   ],
   "source": [
    "print(\"%1.2f %1.2f\" % (dfd_pregna.mean(), dfnd_pregna.mean()))"
   ]
  },
  {
   "cell_type": "code",
   "execution_count": null,
   "metadata": {},
   "outputs": [],
   "source": []
  }
 ],
 "metadata": {
  "celltoolbar": "Slideshow",
  "kernelspec": {
   "display_name": "Python3 - python",
   "language": "python",
   "name": "ipython_python"
  },
  "language_info": {
   "codemirror_mode": {
    "name": "ipython",
    "version": 3
   },
   "file_extension": ".py",
   "mimetype": "text/x-python",
   "name": "python",
   "nbconvert_exporter": "python",
   "pygments_lexer": "ipython3",
   "version": "3.7.2"
  }
 },
 "nbformat": 4,
 "nbformat_minor": 2
}
